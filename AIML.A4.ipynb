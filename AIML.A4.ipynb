{
  "nbformat": 4,
  "nbformat_minor": 0,
  "metadata": {
    "colab": {
      "provenance": [],
      "authorship_tag": "ABX9TyPw8Ifysq64A8OPPRHfOQZD",
      "include_colab_link": true
    },
    "kernelspec": {
      "name": "python3",
      "display_name": "Python 3"
    },
    "language_info": {
      "name": "python"
    }
  },
  "cells": [
    {
      "cell_type": "markdown",
      "metadata": {
        "id": "view-in-github",
        "colab_type": "text"
      },
      "source": [
        "<a href=\"https://colab.research.google.com/github/ashmithareddy20/23CSBTB39-40/blob/main/AIML.A4.ipynb\" target=\"_parent\"><img src=\"https://colab.research.google.com/assets/colab-badge.svg\" alt=\"Open In Colab\"/></a>"
      ]
    },
    {
      "cell_type": "code",
      "execution_count": 14,
      "metadata": {
        "colab": {
          "base_uri": "https://localhost:8080/"
        },
        "id": "9a43poyxTO7z",
        "outputId": "97685a66-91ee-4d63-d4be-c060d9b71423"
      },
      "outputs": [
        {
          "output_type": "stream",
          "name": "stdout",
          "text": [
            "number of rows: 545\n",
            "number of columns: 13\n"
          ]
        }
      ],
      "source": [
        "import numpy as np\n",
        "import pandas as pd\n",
        "import matplotlib.pyplot as plt\n",
        "import seaborn as sns\n",
        "\n",
        "housing=pd.read_csv(\"Housing1.csv\")\n",
        "housing.head()\n",
        "housing.tail()\n",
        "rows=len(housing.axes[0])\n",
        "cols=len(housing.axes[1])\n",
        "print(\"number of rows:\",rows)\n",
        "print(\"number of columns:\",cols)\n"
      ]
    }
  ]
}